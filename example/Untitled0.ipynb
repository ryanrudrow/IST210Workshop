{
  "nbformat": 4,
  "nbformat_minor": 0,
  "metadata": {
    "colab": {
      "name": "Untitled0.ipynb",
      "provenance": [],
      "include_colab_link": true
    },
    "kernelspec": {
      "name": "python3",
      "display_name": "Python 3"
    }
  },
  "cells": [
    {
      "cell_type": "markdown",
      "metadata": {
        "id": "view-in-github",
        "colab_type": "text"
      },
      "source": [
        "<a href=\"https://colab.research.google.com/github/ryanrudrow/IST210Workshop/blob/master/example/Untitled0.ipynb\" target=\"_parent\"><img src=\"https://colab.research.google.com/assets/colab-badge.svg\" alt=\"Open In Colab\"/></a>"
      ]
    },
    {
      "cell_type": "markdown",
      "metadata": {
        "id": "4vjDsxu1dGru",
        "colab_type": "text"
      },
      "source": [
        "# this is my learning notebook "
      ]
    },
    {
      "cell_type": "markdown",
      "metadata": {
        "id": "9R21RrtGdpuk",
        "colab_type": "text"
      },
      "source": [
        "![my picture](https://raw.githubusercontent.com/ryanrudrow/IST210Workshop/master/example/Untitled%20Diagram.png)"
      ]
    }
  ]
}